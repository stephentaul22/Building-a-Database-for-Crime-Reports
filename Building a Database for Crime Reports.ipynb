{
 "cells": [
  {
   "cell_type": "markdown",
   "metadata": {},
   "source": [
    "# Building a Database for Crime Reports\n",
    "\n",
    "PostgreSQL is useful for working with large datasets.\n",
    "\n",
    "In this project I will demonstrate how to build a PostgreSQL database from [this Boston crime data here](https://www.kaggle.com/ankkur13/boston-crime-data)."
   ]
  },
  {
   "cell_type": "code",
   "execution_count": 21,
   "metadata": {},
   "outputs": [],
   "source": [
    "import psycopg2\n",
    "import csv\n",
    "import cchardet"
   ]
  },
  {
   "cell_type": "markdown",
   "metadata": {},
   "source": [
    "### Establishing the Connection"
   ]
  },
  {
   "cell_type": "code",
   "execution_count": 9,
   "metadata": {},
   "outputs": [],
   "source": [
    "conn = psycopg2.connect(dbname='###', user='###')\n",
    "conn.autocommit = True\n",
    "cur = conn.cursor()"
   ]
  },
  {
   "cell_type": "markdown",
   "metadata": {},
   "source": [
    "### Creating the Database"
   ]
  },
  {
   "cell_type": "code",
   "execution_count": null,
   "metadata": {},
   "outputs": [],
   "source": [
    "cur.execute(\"CREATE DATABASE crime_db;\")\n",
    "\n",
    "conn.close() # Closing the connection"
   ]
  },
  {
   "cell_type": "markdown",
   "metadata": {},
   "source": [
    "### Connecting to the `crime_db` Database"
   ]
  },
  {
   "cell_type": "code",
   "execution_count": 10,
   "metadata": {},
   "outputs": [],
   "source": [
    "conn = psycopg2.connect(dbname='crime_db', user='###')\n",
    "conn.autocommit = True\n",
    "cur = conn.cursor()\n",
    "\n",
    "cur.execute(\"CREATE SCHEMA crimes;\") # Creating the necessary schema"
   ]
  },
  {
   "cell_type": "markdown",
   "metadata": {},
   "source": [
    "### Opening the `crime.csv` file as a list of lists"
   ]
  },
  {
   "cell_type": "code",
   "execution_count": 18,
   "metadata": {},
   "outputs": [],
   "source": [
    "with open('crime.csv', mode='rb') as file: # Checking encoding\n",
    "    raw_bytes = file.read()\n",
    "    \n",
    "encoding = cchardet.detect(raw_bytes)['encoding']\n",
    "\n",
    "with open('crime.csv', encoding=encoding) as file: # Opening with encoding\n",
    "    \n",
    "    reader = csv.reader(file)\n",
    "    boston = list(reader)\n",
    "    \n",
    "    for i in range(len(boston)): # Selecting columns for database\n",
    "        row = boston[i]\n",
    "        boston[i] = [row[0], row[1], row[3], row[7], row[10], row[14], row[15]]\n",
    "    \n",
    "    col_headers = boston[0] # Header row\n",
    "    first_row = boston[1] # Data rows"
   ]
  },
  {
   "cell_type": "code",
   "execution_count": 41,
   "metadata": {},
   "outputs": [
    {
     "data": {
      "text/plain": [
       "['INCIDENT_NUMBER',\n",
       " 'OFFENSE_CODE',\n",
       " 'OFFENSE_DESCRIPTION',\n",
       " 'OCCURRED_ON_DATE',\n",
       " 'DAY_OF_WEEK',\n",
       " 'Lat',\n",
       " 'Long']"
      ]
     },
     "execution_count": 41,
     "metadata": {},
     "output_type": "execute_result"
    }
   ],
   "source": [
    "# Viewing header row\n",
    "col_headers"
   ]
  },
  {
   "cell_type": "code",
   "execution_count": 42,
   "metadata": {},
   "outputs": [
    {
     "data": {
      "text/plain": [
       "['I182080058',\n",
       " '02403',\n",
       " 'DISTURBING THE PEACE',\n",
       " '2018-10-03 20:13:00',\n",
       " 'Wednesday',\n",
       " '42.26260773',\n",
       " '-71.12118637']"
      ]
     },
     "execution_count": 42,
     "metadata": {},
     "output_type": "execute_result"
    }
   ],
   "source": [
    "# Viewing first data row\n",
    "first_row"
   ]
  },
  {
   "cell_type": "markdown",
   "metadata": {},
   "source": [
    "### Writing the `boston` list of lists to a `.csv` file"
   ]
  },
  {
   "cell_type": "code",
   "execution_count": 54,
   "metadata": {},
   "outputs": [],
   "source": [
    "with open('boston.csv', mode='w', newline='') as file:\n",
    "    \n",
    "    writer = csv.writer(file)\n",
    "    writer.writerows(boston)"
   ]
  },
  {
   "cell_type": "markdown",
   "metadata": {},
   "source": [
    "### Identifying proper datatypes for the columns\n",
    "\n",
    "When creating our database, we want to make sure the values in each column are entered as the most optimal datatypes.\n",
    "\n",
    "We want to find out:\n",
    "\n",
    "* If any columns should be enumerated datatypes\n",
    "* How many characters each varchar column should allow\n",
    "\n",
    "To come to the first conclusion, we can build a function that determines how many unique values are in each column. If there are very few, that column can be enumerated.\n",
    "\n",
    "To calculate the answers for the second task, we can use the same function that we build to determine the longest character length in any potential varchar columns."
   ]
  },
  {
   "cell_type": "code",
   "execution_count": 45,
   "metadata": {},
   "outputs": [],
   "source": [
    "# Function that returns a set of unique values for any column\n",
    "\n",
    "def get_col_value_set(csv_filename, col_index):\n",
    "    \"\"\"\n",
    "    Creates a set of unique values from a given column in a dataset\n",
    "    \n",
    "    Args:\n",
    "        csv_filename (list): list of lists, dataset to search\n",
    "        col_index (int): column from which to generate set\n",
    "        \n",
    "    Returns:\n",
    "        set\n",
    "    \"\"\"\n",
    "    unique_values = set()\n",
    "    for i in range(len(csv_filename)): \n",
    "        unique_values.add(csv_filename[i][col_index])\n",
    "        \n",
    "    return unique_values"
   ]
  },
  {
   "cell_type": "code",
   "execution_count": 46,
   "metadata": {},
   "outputs": [
    {
     "name": "stdout",
     "output_type": "stream",
     "text": [
      "290156\n",
      "263\n",
      "244\n",
      "239364\n",
      "7\n",
      "18240\n",
      "18240\n"
     ]
    }
   ],
   "source": [
    "# Calculating number of unique values in each column\n",
    "for j in range(len(col_headers)):\n",
    "    \n",
    "    print(len(get_col_value_set(boston[1:], j)))"
   ]
  },
  {
   "cell_type": "markdown",
   "metadata": {},
   "source": [
    "It looks like column 4, `day_of_week`, should be enumerated.\n",
    "\n",
    "Additionally, we should have 2 varchar columns, from column 0 and column 2.\n",
    "\n",
    "Let's see what the max length is in these columns:"
   ]
  },
  {
   "cell_type": "code",
   "execution_count": 83,
   "metadata": {},
   "outputs": [
    {
     "data": {
      "text/plain": [
       "13"
      ]
     },
     "execution_count": 83,
     "metadata": {},
     "output_type": "execute_result"
    }
   ],
   "source": [
    "# Determining max character length for column 0, `incident_number`\n",
    "max_length=0\n",
    "\n",
    "for value in get_col_value_set(boston[1:], 0):\n",
    "    max_length = max(max_length, len(value))\n",
    "    \n",
    "max_length"
   ]
  },
  {
   "cell_type": "code",
   "execution_count": 84,
   "metadata": {},
   "outputs": [
    {
     "data": {
      "text/plain": [
       "58"
      ]
     },
     "execution_count": 84,
     "metadata": {},
     "output_type": "execute_result"
    }
   ],
   "source": [
    "# Determining max character length for column 2, `description`\n",
    "max_length=0\n",
    "\n",
    "for value in get_col_value_set(boston[1:], 2):\n",
    "    max_length = max(max_length, len(value))\n",
    "    \n",
    "max_length"
   ]
  },
  {
   "cell_type": "markdown",
   "metadata": {},
   "source": [
    "### Creating enumerated values for `day_of_week` column"
   ]
  },
  {
   "cell_type": "code",
   "execution_count": 50,
   "metadata": {},
   "outputs": [],
   "source": [
    "cur.execute(\"\"\"\n",
    "    CREATE TYPE day_of_week_enum AS ENUM \n",
    "    \n",
    "    ('Monday', 'Tuesday', 'Wednesday', 'Thursday', 'Friday', 'Saturday', 'Sunday');\n",
    "    \n",
    "    \"\"\")"
   ]
  },
  {
   "cell_type": "markdown",
   "metadata": {},
   "source": [
    "### Creating the `boston_crimes` data table with proper datatypes"
   ]
  },
  {
   "cell_type": "code",
   "execution_count": 99,
   "metadata": {},
   "outputs": [],
   "source": [
    "cur.execute(\"\"\"\n",
    "    CREATE TABLE crimes.boston_crimes (\n",
    "    \n",
    "        incident_number VARCHAR(30),\n",
    "        offense_code SMALLINT,\n",
    "        description VARCHAR(100),\n",
    "        date DATE,\n",
    "        day_of_the_week DAY_OF_WEEK_ENUM,\n",
    "        latitude DECIMAL(10,8),\n",
    "        longitude DECIMAL(10,8)\n",
    "        \n",
    "        );\n",
    "    \"\"\")"
   ]
  },
  {
   "cell_type": "markdown",
   "metadata": {},
   "source": [
    "### Loading the `boston.csv` data into the `crimes.boston_crimes` datatable"
   ]
  },
  {
   "cell_type": "code",
   "execution_count": 100,
   "metadata": {},
   "outputs": [],
   "source": [
    "with open('boston.csv') as file:\n",
    "    \n",
    "    cur.copy_expert(\"\"\"\n",
    "    COPY crimes.boston_crimes FROM STDIN WITH CSV HEADER;\n",
    "    \"\"\", file)"
   ]
  },
  {
   "cell_type": "markdown",
   "metadata": {},
   "source": [
    "### Revoking `public` group privileges"
   ]
  },
  {
   "cell_type": "code",
   "execution_count": 101,
   "metadata": {},
   "outputs": [],
   "source": [
    "cur.execute(\"\"\"\n",
    "    REVOKE ALL ON SCHEMA public FROM public;\n",
    "    \"\"\")\n",
    "\n",
    "cur.execute(\"\"\"\n",
    "    REVOKE ALL ON DATABASE crime_db FROM public;\n",
    "    \"\"\")"
   ]
  },
  {
   "cell_type": "markdown",
   "metadata": {},
   "source": [
    "### Creating `readonly` and `readwrite` groups"
   ]
  },
  {
   "cell_type": "code",
   "execution_count": 102,
   "metadata": {},
   "outputs": [],
   "source": [
    "cur.execute(\"\"\"\n",
    "    CREATE GROUP readonly NOLOGIN;\n",
    "    CREATE GROUP readwrite NOLOGIN;\n",
    "    \"\"\")"
   ]
  },
  {
   "cell_type": "code",
   "execution_count": 103,
   "metadata": {},
   "outputs": [],
   "source": [
    "cur.execute(\"\"\"\n",
    "    GRANT CONNECT ON DATABASE crime_db TO readonly;\n",
    "    GRANT CONNECT ON DATABASE crime_db TO readwrite;\n",
    "    \"\"\")"
   ]
  },
  {
   "cell_type": "code",
   "execution_count": 104,
   "metadata": {},
   "outputs": [],
   "source": [
    "cur.execute(\"\"\"\n",
    "    GRANT USAGE ON SCHEMA crimes TO readonly;\n",
    "    GRANT USAGE ON SCHEMA crimes TO readwrite;\n",
    "    \"\"\")"
   ]
  },
  {
   "cell_type": "markdown",
   "metadata": {},
   "source": [
    "### Granting privileges\n",
    "\n",
    "The `readonly` group can only select the data. The `readwrite` group can make changes to the data. I will give the groups privileges that reflect this:"
   ]
  },
  {
   "cell_type": "code",
   "execution_count": 105,
   "metadata": {},
   "outputs": [],
   "source": [
    "cur.execute(\"\"\"\n",
    "    GRANT SELECT ON ALL TABLES IN SCHEMA crimes TO readonly;\n",
    "    \"\"\")"
   ]
  },
  {
   "cell_type": "code",
   "execution_count": 106,
   "metadata": {},
   "outputs": [],
   "source": [
    "cur.execute(\"\"\"\n",
    "    GRANT SELECT, INSERT, DELETE, UPDATE ON ALL TABLES IN SCHEMA crimes TO readwrite;\n",
    "    \"\"\")"
   ]
  },
  {
   "cell_type": "markdown",
   "metadata": {},
   "source": [
    "### Creating Users"
   ]
  },
  {
   "cell_type": "code",
   "execution_count": 107,
   "metadata": {},
   "outputs": [],
   "source": [
    "cur.execute(\"\"\"\n",
    "    CREATE USER data_analyst WITH PASSWORD 'password1';\n",
    "    \n",
    "    GRANT readonly TO data_analyst;\n",
    "    \"\"\")"
   ]
  },
  {
   "cell_type": "code",
   "execution_count": 108,
   "metadata": {},
   "outputs": [],
   "source": [
    "cur.execute(\"\"\"\n",
    "    CREATE USER data_scientist WITH PASSWORD 'password2';\n",
    "    \n",
    "    GRANT readwrite TO data_scientist;\n",
    "    \"\"\")"
   ]
  },
  {
   "cell_type": "markdown",
   "metadata": {},
   "source": [
    "### Closing the connection"
   ]
  },
  {
   "cell_type": "code",
   "execution_count": 110,
   "metadata": {},
   "outputs": [],
   "source": [
    "conn.close()"
   ]
  },
  {
   "cell_type": "markdown",
   "metadata": {},
   "source": [
    "### Testing the Configuration\n",
    "\n",
    "I will now test to ensure the database is configured correctly:"
   ]
  },
  {
   "cell_type": "code",
   "execution_count": 111,
   "metadata": {},
   "outputs": [],
   "source": [
    "# Testing connection to new database\n",
    "conn = psycopg2.connect(dbname=\"crime_db\", user=\"admin\")\n",
    "cur = conn.cursor()"
   ]
  },
  {
   "cell_type": "code",
   "execution_count": 113,
   "metadata": {},
   "outputs": [
    {
     "name": "stdout",
     "output_type": "stream",
     "text": [
      "('readonly', False, False, False, False)\n",
      "('readwrite', False, False, False, False)\n",
      "('data_analyst', False, False, False, True)\n",
      "('data_scientist', False, False, False, True)\n",
      "\n"
     ]
    }
   ],
   "source": [
    "# Testing for users and groups\n",
    "cur.execute(\"\"\"\n",
    "    SELECT  rolname, \n",
    "            rolsuper, \n",
    "            rolcreaterole, \n",
    "            rolcreatedb, \n",
    "            rolcanlogin \n",
    "            \n",
    "        FROM pg_roles\n",
    "    \n",
    "        WHERE rolname IN ('readonly', 'readwrite', 'data_analyst', 'data_scientist');\n",
    "\"\"\")\n",
    "\n",
    "for user in cur:\n",
    "    print(user)\n",
    "print()"
   ]
  },
  {
   "cell_type": "code",
   "execution_count": 114,
   "metadata": {},
   "outputs": [
    {
     "name": "stdout",
     "output_type": "stream",
     "text": [
      "('readonly', 'SELECT')\n",
      "('readwrite', 'INSERT')\n",
      "('readwrite', 'SELECT')\n",
      "('readwrite', 'UPDATE')\n",
      "('readwrite', 'DELETE')\n"
     ]
    }
   ],
   "source": [
    "# Testing for privileges\n",
    "cur.execute(\"\"\"\n",
    "    SELECT  grantee, \n",
    "            privilege_type\n",
    "            \n",
    "        FROM information_schema.table_privileges\n",
    "    \n",
    "        WHERE grantee IN ('readonly', 'readwrite');\n",
    "\"\"\")\n",
    "\n",
    "for user in cur:\n",
    "    print(user)"
   ]
  },
  {
   "cell_type": "code",
   "execution_count": 115,
   "metadata": {},
   "outputs": [],
   "source": [
    "conn.close()"
   ]
  },
  {
   "cell_type": "markdown",
   "metadata": {},
   "source": [
    "## Conclusion\n",
    "\n",
    "We now have a database of Boston Crime data that we can view and/or update depending on user group privileges. \n",
    "\n",
    "### Next Steps:\n",
    "\n",
    "* Create indexes for querying the data"
   ]
  },
  {
   "cell_type": "code",
   "execution_count": null,
   "metadata": {},
   "outputs": [],
   "source": []
  }
 ],
 "metadata": {
  "kernelspec": {
   "display_name": "Python 3",
   "language": "python",
   "name": "python3"
  },
  "language_info": {
   "codemirror_mode": {
    "name": "ipython",
    "version": 3
   },
   "file_extension": ".py",
   "mimetype": "text/x-python",
   "name": "python",
   "nbconvert_exporter": "python",
   "pygments_lexer": "ipython3",
   "version": "3.8.5"
  }
 },
 "nbformat": 4,
 "nbformat_minor": 4
}
